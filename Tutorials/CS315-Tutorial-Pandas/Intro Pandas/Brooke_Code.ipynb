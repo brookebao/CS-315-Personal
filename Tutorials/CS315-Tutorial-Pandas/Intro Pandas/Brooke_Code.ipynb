{
 "cells": [
  {
   "cell_type": "code",
   "execution_count": null,
   "id": "9fc90085-5abb-45ab-8ea4-6a3c9eb9a77b",
   "metadata": {},
   "outputs": [],
   "source": [
    "def count_names(names_list):  #helper function, dictionary counting occurances of each name\n",
    "    name_counts = {}  # Initialize an empty dictionary to store counts\n",
    "\n",
    "    for name in names_list:\n",
    "        if name in name_counts:\n",
    "            # If the name is already in the dictionary, increment its count\n",
    "            name_counts[name] += 1\n",
    "        else:\n",
    "            # If the name is not in the dictionary, add it with count 1\n",
    "            name_counts[name] = 1\n",
    "\n",
    "    return name_counts"
   ]
  },
  {
   "cell_type": "code",
   "execution_count": null,
   "id": "380ddc61-158f-4ea2-b699-121fcb8b6b59",
   "metadata": {},
   "outputs": [],
   "source": [
    "def dictToDataFrame(data):  #helper function, dictionary to dataframe\n",
    "  dictionary = count_names(data.loc[:, 'author']) #calls helper to see occurences\n",
    "  df = pd.DataFrame.from_dict(dictionary, orient='index', columns=['frequency']).reset_index() #makes dataframe dictionary\n",
    "  df.columns = ['names', 'frequency']\n",
    "  df = df.sort_values(by='frequency', ascending=False)\n",
    "  return df"
   ]
  },
  {
   "cell_type": "code",
   "execution_count": null,
   "id": "e65b8c41-a4f8-495e-8fc5-14161f7de884",
   "metadata": {},
   "outputs": [],
   "source": [
    "# data\n",
    "def makeGraph(data, member, actcont, bars, columns):\n",
    "  dataframe = dictToDataFrame(data)\n",
    "  names = dataframe.loc[:, 'names'][:bars]\n",
    "  freq = dataframe.loc[:, 'frequency'][:columns] #come back\n",
    "\n",
    "  # when plotting bars, the x-axis doesn't have numerical values, we need to generate them\n",
    "  # this is why we use range(len(movies)) in the line below\n",
    "  plt.bar(range(len(names)), freq)\n",
    "  plt.ylabel(\"Frequency\")\n",
    "  plt.title(\"Top 10 Most Frequent Creators - \" + member + \" \" + actcont)\n",
    "\n",
    "  # label x-axis with movie names by providing indices 0, 1, 2, etc. and labels for each tick\n",
    "  plt.xticks(range(len(names)), names, rotation=45, ha='right')\n",
    "  plt.show()"
   ]
  },
  {
   "cell_type": "code",
   "execution_count": null,
   "id": "e7bb6c88-325b-4e76-a4a1-4c40f5092921",
   "metadata": {},
   "outputs": [],
   "source": [
    "num = 20\n",
    "makeGraph(amy_active, 'Amy', 'active', num, num)\n",
    "makeGraph(amy_control, 'Amy', 'control', num, num)\n",
    "\n",
    "makeGraph(brooke_active, 'Brooke', 'active', num, num)\n",
    "makeGraph(brooke_control, 'Brooke', 'control', num, num)\n",
    "\n",
    "makeGraph(adelle_active, 'Adelle', 'active', num, num)\n",
    "makeGraph(adelle_control, 'Adelle', 'control', num, num)\n",
    "\n",
    "makeGraph(lillie_active, 'Lillie', 'active', num, num)\n",
    "makeGraph(lillie_control, 'Lillie', 'control', num, num)\n",
    "\n",
    "makeGraph(soo_active, 'Soo', 'active', num, num,)\n",
    "makeGraph(soo_control, 'Soo', 'control', num, num)\n",
    "\n",
    "makeGraph(rachel_active, 'Rachel', 'active', num, num)\n",
    "makeGraph(rachel_control, 'Rachel', 'control', num, num)"
   ]
  }
 ],
 "metadata": {
  "kernelspec": {
   "display_name": "Python 3 (ipykernel)",
   "language": "python",
   "name": "python3"
  },
  "language_info": {
   "codemirror_mode": {
    "name": "ipython",
    "version": 3
   },
   "file_extension": ".py",
   "mimetype": "text/x-python",
   "name": "python",
   "nbconvert_exporter": "python",
   "pygments_lexer": "ipython3",
   "version": "3.11.7"
  }
 },
 "nbformat": 4,
 "nbformat_minor": 5
}
