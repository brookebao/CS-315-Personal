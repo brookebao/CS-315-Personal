{
 "cells": [
  {
   "cell_type": "markdown",
   "id": "502fc599-8fa1-4a08-8048-0a0cf9d03845",
   "metadata": {},
   "source": [
    "# **Python Libraries—Practice, Brooke**\n",
    "1. Use the csv library to write some data into a CSV file\n",
    "2. Then, use csv and jinja2 to convert that information into an HTML file. Upload that file into the server\n",
    "3. Pair up with a peer to exchange URLs of the files you created\n",
    "4. Write code to get the friend’s file onto your computer and use beautifulsoup to extract the content of what your friend has written, and then save that content into a JSON file (as a dictionary of values)."
   ]
  },
  {
   "cell_type": "code",
   "execution_count": 17,
   "id": "faf6d25d-5cec-4092-bb63-1bd3e2501c71",
   "metadata": {},
   "outputs": [],
   "source": [
    "import csv\n",
    "from collections import OrderedDict"
   ]
  },
  {
   "cell_type": "code",
   "execution_count": 18,
   "id": "3149a6af-58ba-4b87-8ae6-8d31b475f14f",
   "metadata": {},
   "outputs": [],
   "source": [
    "#Animals: Column headers: Name, animal, age\n",
    "headers = ['Name', 'Animal', 'Age']\n",
    "shelly = ({'Name': 'Shelly', 'Animal': 'Turtle', 'Age': '12'})\n",
    "harry = ({'Name': 'Harry', 'Animal': 'Monkey', 'Age': '2'})\n",
    "fluffy = ({'Name': 'Fluffy', 'Animal': 'Dog', 'Age': '4'})\n",
    "rows = []\n",
    "rows.append(shelly)\n",
    "rows.append(harry)\n",
    "rows.append(fluffy)\n"
   ]
  },
  {
   "cell_type": "code",
   "execution_count": 19,
   "id": "c394b1d2-f657-4fd2-9e86-e0c0bf840768",
   "metadata": {},
   "outputs": [],
   "source": [
    "with open(\"pythonlibraries_practice_animals.csv\", 'w') as fileToWrite:\n",
    "    csvWriter = csv.DictWriter(fileToWrite, \n",
    "                               fieldnames=rows[0].keys()) # get the key names as column names\n",
    "    \n",
    "    csvWriter.writeheader() # write the column names\n",
    "    csvWriter.writerows(rows) # write all rows"
   ]
  },
  {
   "cell_type": "markdown",
   "id": "4c1d166e-e7cc-4105-9e28-a9327c241fa1",
   "metadata": {},
   "source": [
    "## 2. Converting to HTML"
   ]
  },
  {
   "cell_type": "code",
   "execution_count": 20,
   "id": "c12016b6-10df-49e5-b058-ceadc034532d",
   "metadata": {},
   "outputs": [],
   "source": [
    "from jinja2 import Template"
   ]
  },
  {
   "cell_type": "code",
   "execution_count": 21,
   "id": "d9fc401c-14c0-42ac-9a71-f0c1fe3addd2",
   "metadata": {},
   "outputs": [],
   "source": [
    "with open(\"pythonlibraries_practice_animals.csv\") as fileToRead:     # open file to read\n",
    "    csvReader = csv.DictReader(fileToRead)   # create reader object\n",
    "    animals = [row for row in csvReader] "
   ]
  },
  {
   "cell_type": "code",
   "execution_count": 22,
   "id": "2316fcd9-05d9-467c-9bf3-5b0bc0fec8a8",
   "metadata": {},
   "outputs": [
    {
     "data": {
      "text/plain": [
       "{'Name': 'Shelly', 'Animal': 'Turtle', 'Age': '12'}"
      ]
     },
     "execution_count": 22,
     "metadata": {},
     "output_type": "execute_result"
    }
   ],
   "source": [
    "animals[0]"
   ]
  },
  {
   "cell_type": "code",
   "execution_count": 23,
   "id": "043130ab-c54b-479c-a9d9-ba2d6a2450dc",
   "metadata": {},
   "outputs": [],
   "source": [
    "# Step 2: Create the HTML template\n",
    "htmlTemplate = \"\"\"\n",
    "<DOCTYPE html>\n",
    "<html>\n",
    "    <head><title>Animals</title></head>\n",
    "    <body>\n",
    "        <h1>Animals in the Class</h1>\n",
    "        <ul>\n",
    "        {% for st in animalsList %}\n",
    "            <li class=\"animals\">{{ st['Name'] }}, a {{ st['Animal'] }}, is {{ st['Age']}} years old.</li> \n",
    "        {% endfor %}\n",
    "        </ul>\n",
    "    </body>\n",
    "</html>\n",
    "\"\"\"\n",
    "\n",
    "tempObj = Template(htmlTemplate)"
   ]
  },
  {
   "cell_type": "code",
   "execution_count": 24,
   "id": "5f15267f-4bba-48af-9c86-b6d972e9412c",
   "metadata": {},
   "outputs": [
    {
     "name": "stdout",
     "output_type": "stream",
     "text": [
      "\n",
      "<DOCTYPE html>\n",
      "<html>\n",
      "    <head><title>Animals</title></head>\n",
      "    <body>\n",
      "        <h1>Animals in the Class</h1>\n",
      "        <ul>\n",
      "        \n",
      "            <li class=\"animals\">Shelly, a Turtle, is 12 years old.</li> \n",
      "        \n",
      "            <li class=\"animals\">Harry, a Monkey, is 2 years old.</li> \n",
      "        \n",
      "            <li class=\"animals\">Fluffy, a Dog, is 4 years old.</li> \n",
      "        \n",
      "        </ul>\n",
      "    </body>\n",
      "</html>\n"
     ]
    }
   ],
   "source": [
    "# Step 3: Render the template by passing as an argument the list of objects.\n",
    "\n",
    "result = tempObj.render(animalsList=animals)\n",
    "print(result)"
   ]
  },
  {
   "cell_type": "code",
   "execution_count": 25,
   "id": "8cfbb057-1730-4bcb-a0e7-1d93ad4e9fa4",
   "metadata": {},
   "outputs": [],
   "source": [
    "with open('pythonlibraries_practice_animals.html', 'w') as outFile:\n",
    "    outFile.write(result)"
   ]
  },
  {
   "cell_type": "markdown",
   "id": "cfb0c505-3706-45a8-b1c6-09e3d00e5a96",
   "metadata": {},
   "source": [
    "## 3. Getting HTML Files"
   ]
  },
  {
   "cell_type": "code",
   "execution_count": 26,
   "id": "9799b375-4765-4b73-a882-1efd35ed1666",
   "metadata": {},
   "outputs": [],
   "source": [
    "import requests\n",
    "import bs4\n",
    "from bs4 import BeautifulSoup as BS"
   ]
  },
  {
   "cell_type": "code",
   "execution_count": 27,
   "id": "5639c259-07e9-40f1-a3ad-3d62a06cc85b",
   "metadata": {},
   "outputs": [
    {
     "name": "stdout",
     "output_type": "stream",
     "text": [
      "\n",
      "<DOCTYPE html>\n",
      "<html>\n",
      "    <head><title>Animals</title></head>\n",
      "    <body>\n",
      "        <h1>Animals in the Class</h1>\n",
      "        <ul>\n",
      "        \n",
      "            <li class=\"animals\">Shelly, a Turtle, is 12 years old.</li> \n",
      "        \n",
      "            <li class=\"animals\">Harry, a Monkey, is 2 years old.</li> \n",
      "        \n",
      "            <li class=\"animals\">Fluffy, a Dog, is 4 years old.</li> \n",
      "        \n",
      "        </ul>\n",
      "    </body>\n",
      "</html>\n"
     ]
    }
   ],
   "source": [
    "htmlPage = requests.get(\"https://cs.wellesley.edu/~bb104/pythonlibraries_practice_animals.html\").text\n",
    "print(htmlPage)"
   ]
  },
  {
   "cell_type": "code",
   "execution_count": 28,
   "id": "abc4adba-445d-4aef-adea-a26c081eecf4",
   "metadata": {},
   "outputs": [
    {
     "data": {
      "text/plain": [
       "bs4.BeautifulSoup"
      ]
     },
     "execution_count": 28,
     "metadata": {},
     "output_type": "execute_result"
    }
   ],
   "source": [
    "domTree = BS(htmlPage, 'html.parser')\n",
    "type(domTree)"
   ]
  },
  {
   "cell_type": "markdown",
   "id": "29a81d99-9796-41c3-ac99-e2f38be37d98",
   "metadata": {},
   "source": [
    "## 4. Turning into JSON File"
   ]
  },
  {
   "cell_type": "code",
   "execution_count": 29,
   "id": "ca15f333-b1ff-4366-8488-92c8bda8e93c",
   "metadata": {},
   "outputs": [],
   "source": [
    "# Dump into a file\n",
    "\n",
    "import json"
   ]
  },
  {
   "cell_type": "code",
   "execution_count": 30,
   "id": "9becc9b5-2dcf-4168-a086-b5c6a58c5fda",
   "metadata": {},
   "outputs": [],
   "source": [
    "# Load from a file\n",
    "with open('pythonlibraries_practice_animals.json', 'w') as outFile:\n",
    "    json.dump(animals, outFile)"
   ]
  },
  {
   "cell_type": "code",
   "execution_count": 34,
   "id": "deb47d3a-f9eb-489b-92ab-76cc455a2bba",
   "metadata": {},
   "outputs": [
    {
     "data": {
      "text/plain": [
       "[{'Name': 'Shelly', 'Animal': 'Turtle', 'Age': '12'},\n",
       " {'Name': 'Harry', 'Animal': 'Monkey', 'Age': '2'},\n",
       " {'Name': 'Fluffy', 'Animal': 'Dog', 'Age': '4'}]"
      ]
     },
     "execution_count": 34,
     "metadata": {},
     "output_type": "execute_result"
    }
   ],
   "source": [
    "with open('pythonlibraries_practice_animals.json') as inFile:\n",
    "    fromJson = json.load(inFile)\n",
    "fromJson"
   ]
  },
  {
   "cell_type": "code",
   "execution_count": null,
   "id": "8efc239f-a361-4317-8827-0ce0e2121afd",
   "metadata": {},
   "outputs": [],
   "source": []
  }
 ],
 "metadata": {
  "kernelspec": {
   "display_name": "Python 3 (ipykernel)",
   "language": "python",
   "name": "python3"
  },
  "language_info": {
   "codemirror_mode": {
    "name": "ipython",
    "version": 3
   },
   "file_extension": ".py",
   "mimetype": "text/x-python",
   "name": "python",
   "nbconvert_exporter": "python",
   "pygments_lexer": "ipython3",
   "version": "3.11.5"
  }
 },
 "nbformat": 4,
 "nbformat_minor": 5
}
